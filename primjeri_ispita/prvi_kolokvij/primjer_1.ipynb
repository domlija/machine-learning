{
 "cells": [
  {
   "cell_type": "markdown",
   "metadata": {},
   "source": [
    "# Primjer prvog kolokvija\n",
    "\n",
    "Prvi kolokvij će biti ovog tipa. Pisati će se u obliku jupyter bilježnice gdje će te nadopuniti ili napisati kod, kratko odgovoriti na pitanja i slično. "
   ]
  },
  {
   "cell_type": "code",
   "execution_count": 1,
   "metadata": {},
   "outputs": [],
   "source": [
    "import numpy as np\n",
    "import matplotlib.pyplot as plt\n",
    "from sklearn.linear_model import LinearRegression\n",
    "from sklearn.preprocessing import PolynomialFeatures"
   ]
  },
  {
   "cell_type": "markdown",
   "metadata": {},
   "source": [
    "### 1. zadatak\n",
    "Napisati numpy funkciju koja će izračunati prosjek značajki matrice dizajna (redci predstavljaju primjere/podatke a stupci njihove značajke) za svaki podatak. Znači ulaz je matrica dimenzija $N \\times n$, a izlaz vektor dimenzije $N$"
   ]
  },
  {
   "cell_type": "code",
   "execution_count": 12,
   "metadata": {},
   "outputs": [
    {
     "name": "stdout",
     "output_type": "stream",
     "text": [
      "[1. 3.]\n"
     ]
    }
   ],
   "source": [
    "def avg(design_matrix):\n",
    "    return np.mean(design_matrix, axis=1)\n",
    "\n",
    "\n",
    "\n",
    "\n",
    "\n",
    "print(avg(np.array([[0,2], [1,5]])))"
   ]
  },
  {
   "cell_type": "markdown",
   "metadata": {},
   "source": [
    "### 2. zadatak\n",
    "\n",
    "Napisati funkciju koja prima dvije matrice iste dimenzije. Funkcija vraća sve elemente prve matrice (u obliku 1-d arraya ili liste), ako je element druge matrice na istoj poziciji paran"
   ]
  },
  {
   "cell_type": "code",
   "execution_count": 16,
   "metadata": {},
   "outputs": [
    {
     "name": "stdout",
     "output_type": "stream",
     "text": [
      "[2 3]\n"
     ]
    }
   ],
   "source": [
    "def pick(m1, m2):\n",
    "    return m1[m2 % 2 == 0]\n",
    "\n",
    "\n",
    "\n",
    "\n",
    "print(\n",
    "    pick(\n",
    "        np.array([[1,2],[3,4]]),\n",
    "        np.array([[1,2],[2,1]])\n",
    "    )\n",
    ")"
   ]
  },
  {
   "cell_type": "markdown",
   "metadata": {},
   "source": [
    "### 3. zadatak\n",
    "Napisati funkciju koja provjerava jesu li retci matrice dimenzije $N \\times 3$ duljine stranice trokuta. Tri broja mogu biti duljine stranice trokuta ako i samo ako je najveća duljina manja ili jednaka zbroju manjih duljina. Funkcija vraća true ako su svi elementi trokuti, inače false."
   ]
  },
  {
   "cell_type": "code",
   "execution_count": 20,
   "metadata": {},
   "outputs": [
    {
     "name": "stdout",
     "output_type": "stream",
     "text": [
      "0\n",
      "False\n"
     ]
    },
    {
     "name": "stderr",
     "output_type": "stream",
     "text": [
      "/tmp/ipykernel_6104/1918471326.py:17: DeprecationWarning: `product` is deprecated as of NumPy 1.25.0, and will be removed in NumPy 2.0. Please use `prod` instead.\n",
      "  check(\n"
     ]
    }
   ],
   "source": [
    "def check(design_matrix):\n",
    "    largest = np.max(design_matrix, axis=1)  # stvaram dimenzije N -> i-ti element je najveći element i-tog \"trokuta\"\n",
    "    sum_of_all = np.sum(design_matrix, axis=1) # stvaram array dimentije N -> i-ti element je suma elemenata i-tog \"trokuta\"\n",
    "    sum_minus_2_largest = sum_of_all - largest * 2  # suma_svih - najveća = suma_dvije_najmanje\n",
    "                                                    # suma_dvije_najmanje > najveće -> suma_dvije_najmanje - najveće > 0\n",
    "                                                    # (suma_svih - najveća) - najveća > 0\n",
    "                                                    # suma_svih - 2 * najveća > 0\n",
    "\n",
    "    print(np.product(sum_minus_2_largest >= 0)) # true -> 1, false -> 0\n",
    "\n",
    "    if np.min(sum_minus_2_largest) < 0:\n",
    "        return False\n",
    "    \n",
    "    return True\n",
    "\n",
    "print(\n",
    "    check(\n",
    "        np.array(\n",
    "            [[2,3,2],\n",
    "            [1,1,2]]\n",
    "        )\n",
    "    )\n",
    ")"
   ]
  },
  {
   "cell_type": "markdown",
   "metadata": {},
   "source": [
    "### 4. zadatak\n",
    "\n",
    "Pomoću zadane funkcije `generate_data` stvorite 10 točaka i providete dva alogirtama linearne regresije. Prvi neka koristi stupanj preslikavanja dva, a drugi pet. Zatim generirajte još pet testnih točaka te objasnite koji algoritam bolje radi i zašto. Što bi se dogodilo kada bi generirali 100 točaka za učenje? Nacrtajte hipoteze i točke."
   ]
  },
  {
   "cell_type": "code",
   "execution_count": 33,
   "metadata": {},
   "outputs": [],
   "source": [
    "def generetate_data(N=10):\n",
    "    X = np.random.uniform(-2,2,size=N)\n",
    "    y = -X ** 2 - X + np.random.normal(0, 1, size=N)\n",
    "\n",
    "    return X, y "
   ]
  },
  {
   "cell_type": "code",
   "execution_count": 35,
   "metadata": {},
   "outputs": [
    {
     "name": "stdout",
     "output_type": "stream",
     "text": [
      "d=2 greška train: 0.4370032151021146\n",
      "d=5 greška train: 0.1563214886410767\n",
      "d=2 greška test: 2.239030756314149\n",
      "d=5 greška test: 136.34004458966723\n"
     ]
    },
    {
     "data": {
      "text/plain": [
       "[]"
      ]
     },
     "execution_count": 35,
     "metadata": {},
     "output_type": "execute_result"
    },
    {
     "data": {
      "image/png": "[encoded data removed]",
      "text/plain": [
       "<Figure size 640x480 with 1 Axes>"
      ]
     },
     "metadata": {},
     "output_type": "display_data"
    }
   ],
   "source": [
    "N = 10\n",
    "X, y = generetate_data(N)\n",
    "\n",
    "poly_1 = PolynomialFeatures(degree=2, include_bias=False)\n",
    "poly_2 = PolynomialFeatures(degree=5, include_bias=False)\n",
    "\n",
    "model_1 = LinearRegression()\n",
    "model_2 = LinearRegression()\n",
    "\n",
    "dm_1 = poly_1.fit_transform(X.reshape(-1,1))\n",
    "dm_2 = poly_2.fit_transform(X.reshape(-1,1))\n",
    "\n",
    "model_1.fit(dm_1, y)\n",
    "model_2.fit(dm_2, y)\n",
    "\n",
    "y_p_1 = model_1.predict(dm_1)\n",
    "y_p_2 = model_2.predict(dm_2)\n",
    "\n",
    "print(f'd=2 greška train: {np.sum((y_p_1 - y)**2)/N}')\n",
    "print(f'd=5 greška train: {np.sum((y_p_2 - y)**2)/N}')\n",
    "\n",
    "N = 5\n",
    "X_test, y_test = generetate_data(N)\n",
    "\n",
    "dm_1_t = poly_1.transform(X_test.reshape(-1,1))\n",
    "dm_2_t = poly_2.transform(X_test.reshape(-1,1))\n",
    "\n",
    "y_p_t_1 = model_1.predict(dm_1_t)\n",
    "y_p_t_2 = model_2.predict(dm_2_t)\n",
    "\n",
    "print(f'd=2 greška test: {np.sum((y_p_t_1 - y_test)**2)/N}')\n",
    "print(f'd=5 greška test: {np.sum((y_p_t_2 - y_test)**2)/N}')\n",
    "\n",
    "plt.scatter(X, y, c='red')\n",
    "plt.scatter(X_test, y_test, c='blue')\n",
    "\n",
    "ls = np.linspace(-2, 2, 100).reshape(-1,1)\n",
    "\n",
    "plt.plot(\n",
    "    ls,\n",
    "    model_1.predict(poly_1.transform(ls)),\n",
    "    label='d=2'\n",
    ")\n",
    "plt.plot(\n",
    "    ls,\n",
    "    model_2.predict(poly_2.transform(ls)),\n",
    "    label='d=5'\n",
    ")\n",
    "plt.legend()\n",
    "plt.ylim(10)\n",
    "plt.plot()"
   ]
  },
  {
   "cell_type": "markdown",
   "metadata": {},
   "source": [
    "#### prostor za odgovore:"
   ]
  },
  {
   "cell_type": "markdown",
   "metadata": {},
   "source": [
    "### 5. zadatak\n",
    "Pomoću funkcije `generate_data_2` stvorite 30 točaka, za treniranje i 10 za testiranje, te provedite algoritam unakrsne provjere za polinomne transformacije stupnjeva od 1 do 10. Iscrtajte pogreške na skupu za testiranje i na skupu za treniranje te kratko komentirajte rezultat"
   ]
  },
  {
   "cell_type": "code",
   "execution_count": null,
   "metadata": {},
   "outputs": [],
   "source": [
    "def generetate_data_2(N=10):\n",
    "    X = np.random.uniform(-2,2,size=N)\n",
    "    y = -X ** 4 - X**2 + X + np.random.normal(0, 2, size=N)\n",
    "\n",
    "    return X, y "
   ]
  },
  {
   "cell_type": "markdown",
   "metadata": {},
   "source": [
    "#### prostor za odgovore:"
   ]
  }
 ],
 "metadata": {
  "kernelspec": {
   "display_name": "Python 3",
   "language": "python",
   "name": "python3"
  },
  "language_info": {
   "codemirror_mode": {
    "name": "ipython",
    "version": 3
   },
   "file_extension": ".py",
   "mimetype": "text/x-python",
   "name": "python",
   "nbconvert_exporter": "python",
   "pygments_lexer": "ipython3",
   "version": "3.11.6"
  }
 },
 "nbformat": 4,
 "nbformat_minor": 2
}
