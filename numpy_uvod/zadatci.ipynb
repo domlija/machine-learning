{
 "cells": [
  {
   "cell_type": "code",
   "execution_count": 1,
   "metadata": {},
   "outputs": [],
   "source": [
    "import numpy as np"
   ]
  },
  {
   "cell_type": "markdown",
   "metadata": {},
   "source": [
    "### 1. zadatak\n",
    "stvorite vektor od brojeva od 1 do 50, te ga zatim obrnite.\n",
    "\n",
    "\n"
   ]
  },
  {
   "cell_type": "code",
   "execution_count": 2,
   "metadata": {},
   "outputs": [
    {
     "name": "stdout",
     "output_type": "stream",
     "text": [
      "[50 49 48 47 46 45 44 43 42 41 40 39 38 37 36 35 34 33 32 31 30 29 28 27\n",
      " 26 25 24 23 22 21 20 19 18 17 16 15 14 13 12 11 10  9  8  7  6  5  4  3\n",
      "  2  1]\n"
     ]
    }
   ],
   "source": [
    "\n",
    "x = np.arange(1, 51)\n",
    "x = x[::-1]\n",
    "print(x)"
   ]
  },
  {
   "cell_type": "markdown",
   "metadata": {},
   "source": [
    "### 2. zadatak\n",
    "\n",
    "Izračunajte kut između vektora\n",
    "$$\n",
    "\\boldsymbol{x} = \\begin{bmatrix}\n",
    "1 \\\\ 2\n",
    "\\end{bmatrix},\n",
    "\\boldsymbol{y} = \\begin{bmatrix}\n",
    "3 \\\\ 0\n",
    "\\end{bmatrix}\n",
    "$$\n"
   ]
  },
  {
   "cell_type": "code",
   "execution_count": 4,
   "metadata": {},
   "outputs": [
    {
     "name": "stdout",
     "output_type": "stream",
     "text": [
      "63.43494882292201\n"
     ]
    }
   ],
   "source": [
    "x = np.array([1,2])\n",
    "y = np.array([3,0])\n",
    "\n",
    "cos_alpha = x.dot(y) / np.sqrt((x.dot(x) * y.dot(y)))\n",
    "\n",
    "alpha = np.arccos(cos_alpha)\n",
    "\n",
    "print(alpha * 360 / (2 * np.pi))"
   ]
  },
  {
   "cell_type": "markdown",
   "metadata": {},
   "source": [
    "### 3. zadatak\n",
    "\n",
    "Napišite funkciju koja kao argument prima broj nepoznanica $n$, te listu brojeva $L$ koja predstavlja koeficjente sustava linearnih jednadžbi. \n",
    "Konkretno za $n = 2$, sustav bi izgledao kao:\n",
    "$$\n",
    "L_0 x + L_1 y = L_2\n",
    "$$\n",
    "$$\n",
    "L_3 x + L_4y = L_5\n",
    "$$\n",
    "\n",
    "Kao rezultat, funkcija vraća vektor nepoznanica, ili grešku ako sustav nema (jednistveno) rješenje"
   ]
  },
  {
   "cell_type": "code",
   "execution_count": 6,
   "metadata": {},
   "outputs": [
    {
     "name": "stdout",
     "output_type": "stream",
     "text": [
      "[[ 2 -1]\n",
      " [ 1 -1]]\n",
      "[-2. -6.]\n"
     ]
    }
   ],
   "source": [
    "def solve(n, L):\n",
    "    if n * (n + 1) != len(L):\n",
    "        raise RuntimeError('Invalid list size')\n",
    "    \n",
    "    m = np.array(L)\n",
    "    m = m.reshape(n, n + 1)\n",
    "\n",
    "    A = m[:, 0 : n]\n",
    "    b = m[:, n]\n",
    "\n",
    "    A_inv = np.linalg.inv(A)\n",
    "    x = A_inv @ b \n",
    "\n",
    "    return x\n",
    "\n",
    "print(solve(2, [2,-1,2,1,-1,4]))"
   ]
  },
  {
   "cell_type": "markdown",
   "metadata": {},
   "source": [
    "### 4. zadatak\n",
    "\n",
    "Napravite matricu \"šahovnicu\". Neka su crna polja broj $1$, a bijela $0$"
   ]
  },
  {
   "cell_type": "code",
   "execution_count": 10,
   "metadata": {},
   "outputs": [
    {
     "name": "stdout",
     "output_type": "stream",
     "text": [
      "[[1. 0. 1. 0. 1. 0. 1. 0.]\n",
      " [0. 1. 0. 1. 0. 1. 0. 1.]\n",
      " [1. 0. 1. 0. 1. 0. 1. 0.]\n",
      " [0. 1. 0. 1. 0. 1. 0. 1.]\n",
      " [1. 0. 1. 0. 1. 0. 1. 0.]\n",
      " [0. 1. 0. 1. 0. 1. 0. 1.]\n",
      " [1. 0. 1. 0. 1. 0. 1. 0.]\n",
      " [0. 1. 0. 1. 0. 1. 0. 1.]]\n"
     ]
    }
   ],
   "source": [
    "A = np.zeros(shape=(8,8))\n",
    "\n",
    "A[::2, ::2] = 1\n",
    "A[1::2, 1::2] = 1\n",
    "print(A)"
   ]
  },
  {
   "cell_type": "markdown",
   "metadata": {},
   "source": [
    "### 5. zadatak\n",
    "\n",
    "Iz nasumične matrice dimenzije $n \\times n$ odaberite samo one redke čiji je zbroj veći od $4n$. Brojeve generirajte iz intervala $[0,9]$"
   ]
  },
  {
   "cell_type": "code",
   "execution_count": 13,
   "metadata": {},
   "outputs": [
    {
     "name": "stdout",
     "output_type": "stream",
     "text": [
      "Nasumična matrica\n",
      "[[7 5 0 7]\n",
      " [0 4 1 2]\n",
      " [4 6 7 5]\n",
      " [9 1 5 4]]\n",
      "Sume redaka\n",
      "[19  7 22 19]\n",
      "Odabrani retci\n",
      "[[7 5 0 7]\n",
      " [4 6 7 5]\n",
      " [9 1 5 4]]\n"
     ]
    }
   ],
   "source": [
    "n = 4\n",
    "A = np.random.randint(0, 10, size=(n,n))\n",
    "\n",
    "row_sums = np.sum(A, axis=1)\n",
    "condition = row_sums > 4 * n\n",
    "\n",
    "selected = A[condition]\n",
    "\n",
    "print('Nasumična matrica')\n",
    "print(A)\n",
    "print('Sume redaka')\n",
    "print(row_sums)\n",
    "print('Odabrani retci')\n",
    "print(selected)"
   ]
  },
  {
   "cell_type": "markdown",
   "metadata": {},
   "source": [
    "### 6. zadatak\n",
    "Riješite 5. zadatak ali za sume stupaca, te selektirajte stupce."
   ]
  },
  {
   "cell_type": "code",
   "execution_count": 15,
   "metadata": {},
   "outputs": [
    {
     "name": "stdout",
     "output_type": "stream",
     "text": [
      "Nasumična matrica\n",
      "[[8 1 3 0]\n",
      " [1 4 7 3]\n",
      " [7 1 4 9]\n",
      " [9 7 5 5]]\n",
      "Sume stupaca\n",
      "[25 13 19 17]\n",
      "Odabrani stupci\n",
      "[[8 3 0]\n",
      " [1 7 3]\n",
      " [7 4 9]\n",
      " [9 5 5]]\n"
     ]
    }
   ],
   "source": [
    "n = 4\n",
    "A = np.random.randint(0, 10, size=(n,n))\n",
    "\n",
    "col_sums = np.sum(A, axis=0)\n",
    "condition = col_sums > 4 * n\n",
    "\n",
    "selected = A[:, condition]\n",
    "\n",
    "print('Nasumična matrica')\n",
    "print(A)\n",
    "print('Sume stupaca')\n",
    "print(col_sums)\n",
    "print('Odabrani stupci')\n",
    "print(selected)"
   ]
  },
  {
   "cell_type": "markdown",
   "metadata": {},
   "source": [
    "### 7. zadatak\n",
    "Generirajte 9 brojeva, te izračunajte prosjek svaka 3"
   ]
  },
  {
   "cell_type": "code",
   "execution_count": 18,
   "metadata": {},
   "outputs": [
    {
     "name": "stdout",
     "output_type": "stream",
     "text": [
      "[9 4 4 0 3 3 2 6 2]\n",
      "[[9 4 4]\n",
      " [0 3 3]\n",
      " [2 6 2]]\n",
      "[5.66666667 2.         3.33333333]\n"
     ]
    }
   ],
   "source": [
    "x = np.random.randint(0, 10, 9)\n",
    "print(x)\n",
    "\n",
    "x = x.reshape(3, 3)\n",
    "\n",
    "x = np.mean(x, axis=1)\n",
    "\n",
    "print(x)"
   ]
  },
  {
   "cell_type": "markdown",
   "metadata": {},
   "source": [
    "### 8. zadatak\n",
    "\n",
    "Generirajte nasumičan niz $2$-d točaka, te jednu nasumičnu točku $t$. Pronađite najbližu točku niza točki $t$."
   ]
  },
  {
   "cell_type": "code",
   "execution_count": 46,
   "metadata": {},
   "outputs": [
    {
     "name": "stdout",
     "output_type": "stream",
     "text": [
      "[0.95011971 1.35971183]\n",
      "[0.99049693 1.22156969]\n"
     ]
    }
   ],
   "source": [
    "points = np.random.uniform(0, 2, size=(20, 2))\n",
    "point = np.random.uniform(0, 2, size=2)\n",
    "\n",
    "distances = np.sqrt(np.sum(np.square(points - point), axis=1))\n",
    "\n",
    "\n",
    "print(points[np.argmin(distances)])\n",
    "print(point)\n"
   ]
  },
  {
   "cell_type": "markdown",
   "metadata": {},
   "source": [
    "### 9. zadatak\n",
    "\n",
    "Generirajte 3 nasumične točke te izračunajte povrišnu trokuta kojemu su te točke vrhovi."
   ]
  },
  {
   "cell_type": "code",
   "execution_count": 62,
   "metadata": {},
   "outputs": [
    {
     "name": "stdout",
     "output_type": "stream",
     "text": [
      "1.8929689534248524\n"
     ]
    }
   ],
   "source": [
    "points = np.random.uniform(0, 5, size=(3,2))\n",
    "\n",
    "#points = np.array([[0,0], [3,3], [5,0]])\n",
    "\n",
    "sides = np.array([\n",
    "    np.sqrt(np.sum(np.square(points[0] - points[1]))),\n",
    "    np.sqrt(np.sum(np.square(points[0] - points[2]))),\n",
    "    np.sqrt(np.sum(np.square(points[1] - points[2]))),\n",
    "])\n",
    "\n",
    "\n",
    "s = 0.5 * np.sum(sides)\n",
    "\n",
    "area = np.sqrt(s * np.product(s - sides))\n",
    "print(area)"
   ]
  }
 ],
 "metadata": {
  "kernelspec": {
   "display_name": "Python 3",
   "language": "python",
   "name": "python3"
  },
  "language_info": {
   "codemirror_mode": {
    "name": "ipython",
    "version": 3
   },
   "file_extension": ".py",
   "mimetype": "text/x-python",
   "name": "python",
   "nbconvert_exporter": "python",
   "pygments_lexer": "ipython3",
   "version": "3.9.6"
  }
 },
 "nbformat": 4,
 "nbformat_minor": 2
}
