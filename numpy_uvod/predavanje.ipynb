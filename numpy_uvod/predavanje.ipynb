{
 "cells": [
  {
   "cell_type": "markdown",
   "metadata": {},
   "source": [
    "# Uvod u NumPy\n",
    "\n",
    "[NumPy](https://numpy.org/doc/stable/index.html) je Python biblioteka otvorenog koda koja se koristi za obradu numeričkih podatka u Pythonu. To je najveća, najpopularnija i najpodržanija biblioteka takvog tipa. Mnoge druge biblioteke nastale su kao nadogradnja NumPya ili ga koriste kao polazišnu točku. Primjeri takvih bibilioteka su [Pandas](https://pandas.pydata.org/), [scikit-learn](https://scikit-learn.org/stable/), [SciPy](https://scipy.org/) i mnoge druge. U ovoj Jupyter bilježnice upoznati ćemo se s osnovama NumPya. \n",
    "\n",
    "Strojno učenje radi s podatcima, koji mogu biti numerički i/ili kategorički, te je upravo NumPy okosnica mnogih biblioteka strojnog učenja koje rade s numeričkim podatcima."
   ]
  },
  {
   "cell_type": "markdown",
   "metadata": {},
   "source": [
    "Poput bilo koje druge Python biblioteke NumPy je potrebno *importati* to jest povezati s ostatkom našeg programa. U pravilu se *importa* cijeli modul i to kao skraćenicu `np` "
   ]
  },
  {
   "cell_type": "code",
   "execution_count": 1,
   "metadata": {},
   "outputs": [],
   "source": [
    "import numpy as np"
   ]
  },
  {
   "cell_type": "markdown",
   "metadata": {},
   "source": [
    "## Stvaranje ndarrayeva"
   ]
  },
  {
   "cell_type": "markdown",
   "metadata": {},
   "source": [
    "Osnovni element NumPya je `np.ndarray`, to jest n-dimenzionalna lista. To je nadogradnja osnovne Python liste, optimizirana za razne oblike pristupa, transformacija i numeričkih operacija. `np.ndarray` za razliku od obične liste mora biti homogen, to jest svi elemnti moraju biti istog tipa. Pošto NumPy interno poziva efikasne funkcije pisane u jeziku c, podatci moraju biti kompatiblini. U pravilu `np.ndarray` iz već postojećih podataka stvaramo pomoću funkcije `np.array`, koja prime *array-like* objekt i stvara `np.ndarray`."
   ]
  },
  {
   "cell_type": "code",
   "execution_count": 2,
   "metadata": {},
   "outputs": [
    {
     "data": {
      "text/plain": [
       "array([1, 2, 3, 4, 5, 6])"
      ]
     },
     "execution_count": 2,
     "metadata": {},
     "output_type": "execute_result"
    }
   ],
   "source": [
    "# basic array creation from list\n",
    "a = np.array([1,2,3,4,5,6])\n",
    "a"
   ]
  },
  {
   "cell_type": "code",
   "execution_count": 3,
   "metadata": {},
   "outputs": [
    {
     "data": {
      "text/plain": [
       "array([[1, 2, 3],\n",
       "       [4, 5, 6],\n",
       "       [7, 8, 9]])"
      ]
     },
     "execution_count": 3,
     "metadata": {},
     "output_type": "execute_result"
    }
   ],
   "source": [
    "# 2d array from list of lists\n",
    "a = np.array([\n",
    "  [1,2,3],\n",
    "  [4,5,6],\n",
    "  [7,8,9]\n",
    "])\n",
    "a"
   ]
  },
  {
   "cell_type": "markdown",
   "metadata": {},
   "source": [
    "Često moramo stvariti matematičke objekte koji su unaprijed definirani, poput nul-vektora, jedinične matrice, dijagonalne matrice iz vektora i slično. NumPy ima brojne funkcije kojima se možemo poslužiti. No prije njih, moramo objasniti `shape` atribut. Svaki `np.ndarray` ima svoj `shape` atribut koji opisuje dimenzije objekta. "
   ]
  },
  {
   "cell_type": "code",
   "execution_count": 4,
   "metadata": {},
   "outputs": [
    {
     "data": {
      "text/plain": [
       "(3, 3)"
      ]
     },
     "execution_count": 4,
     "metadata": {},
     "output_type": "execute_result"
    }
   ],
   "source": [
    "a.shape"
   ]
  },
  {
   "cell_type": "markdown",
   "metadata": {},
   "source": [
    "`shape` je tuple, u kojem se nalaze dimenzije. U terminima matrica, prvi broj predstavlja broj redaka, a drugi broj stupaca. Prethodno definirana matrica `a` ima 3 redka i 3 stupca."
   ]
  },
  {
   "cell_type": "code",
   "execution_count": 5,
   "metadata": {},
   "outputs": [
    {
     "data": {
      "text/plain": [
       "array([[0., 0., 0.],\n",
       "       [0., 0., 0.]])"
      ]
     },
     "execution_count": 5,
     "metadata": {},
     "output_type": "execute_result"
    }
   ],
   "source": [
    "np.zeros((2,3))  # create array of specified shape filled with zeros.\n"
   ]
  },
  {
   "cell_type": "code",
   "execution_count": 6,
   "metadata": {},
   "outputs": [
    {
     "data": {
      "text/plain": [
       "array([[1., 0., 0.],\n",
       "       [0., 1., 0.],\n",
       "       [0., 0., 1.]])"
      ]
     },
     "execution_count": 6,
     "metadata": {},
     "output_type": "execute_result"
    }
   ],
   "source": [
    "np.eye(3)  # I matrix of dimensions 3x3"
   ]
  },
  {
   "cell_type": "code",
   "execution_count": 7,
   "metadata": {},
   "outputs": [
    {
     "data": {
      "text/plain": [
       "array([[1, 0, 0],\n",
       "       [0, 2, 0],\n",
       "       [0, 0, 3]])"
      ]
     },
     "execution_count": 7,
     "metadata": {},
     "output_type": "execute_result"
    }
   ],
   "source": [
    "np.diag([1,2,3])  # Create diagaonal matrix from an 1-d array like object"
   ]
  },
  {
   "cell_type": "code",
   "execution_count": 8,
   "metadata": {},
   "outputs": [
    {
     "data": {
      "text/plain": [
       "array([[1, 1, 1],\n",
       "       [1, 1, 1],\n",
       "       [1, 1, 1]])"
      ]
     },
     "execution_count": 8,
     "metadata": {},
     "output_type": "execute_result"
    }
   ],
   "source": [
    "np.full_like(a, 1)  # Create an array with shape of a filled with ones, same as np.full(a.shape, 1)"
   ]
  },
  {
   "cell_type": "markdown",
   "metadata": {},
   "source": [
    "Pošto `ndarray` može imati proizvoljno mnogo dimenzija, NumPy koristi koncept osi (`axis`) kako bi se po njima kretali. Osi se indeksiraju od 0. \"Redci\" matrice su os 0, a \"stupci\" 1. Primjerice kada ćemo raditi agregacije nad `ndarrayevima`, moći ćemo specificirati po kojim ćemo ih osima raditi ili pak želimo li ih raditi nad svim elementima."
   ]
  },
  {
   "cell_type": "markdown",
   "metadata": {},
   "source": [
    "## Pristup, transformacije i kombiniranje\n",
    "\n",
    "Nakon upoznavanja s nekim od osnovnih načina stvarnja arrayeva, upoznat ćemo se s načinima pristupa, *slicinga* i kombiniranja arrayeva. Najosnovnija vrsta pristupa identična je pristupu običnoj Python listi. N dimenzionalan array se ustvari sastoji od *k* N-1 dimenzionalnih arrayeva. Klasičnim pristupom pomoću uglatih zagrada mi ćemo dohvatiti jedan od N-1 dimenzionalnih *subarrayeva*, a ne konkretan broj. U jednodimenzionalnom slučaju pristupit ćemo skalaru, to jest broju."
   ]
  },
  {
   "cell_type": "code",
   "execution_count": 9,
   "metadata": {},
   "outputs": [
    {
     "data": {
      "text/plain": [
       "array([1, 2, 3])"
      ]
     },
     "execution_count": 9,
     "metadata": {},
     "output_type": "execute_result"
    }
   ],
   "source": [
    "#  1d element access\n",
    "a[0]"
   ]
  },
  {
   "cell_type": "markdown",
   "metadata": {},
   "source": [
    "No kako da pristupimo konkretnom broju naše matrice `a`? Pa sjetimo se rekurzivne naravi `np.ndarray`-a, ako je `a` dvodimenzionalan array, onda je `a[0]` jednodimenzionalan array, to jest `a[0][0]` je upravo \"prvi\" element matrice. Pošto možemo imati proizvoljno mnogo dimenzija, ne želimo da nam kod ovisi o sintaksi. Primjerice ako napišemo funkciju:\n",
    "```py\n",
    "def add_one_to_elem(matrix, row, col):\n",
    "    matrix[row][column] += 1\n",
    "```\n",
    "\n",
    "Ova funkcija može raditi samo sa dvodminezionalnim objektima. NumPy to rješava na zanimljiv način, umjesto da indeks može biti samo broj indeks može biti i tuple, to jest uređena n-torka elemenata. Primjerice prvom elementu naše matrice `a` možemo pristupiti izrazom `a[0,0]`. Primjetite da je u Pythonu `0,0` ista stvar što i `(0,0)`."
   ]
  },
  {
   "cell_type": "code",
   "execution_count": 10,
   "metadata": {},
   "outputs": [
    {
     "data": {
      "text/plain": [
       "3"
      ]
     },
     "execution_count": 10,
     "metadata": {},
     "output_type": "execute_result"
    }
   ],
   "source": [
    "# 2d element access\n",
    "a[0,2]\n"
   ]
  },
  {
   "cell_type": "markdown",
   "metadata": {},
   "source": [
    "Sada našu ograničenu funkciju možemo napisati kao \n",
    "```py\n",
    "def add_one_to_elem(matrix, position):\n",
    "    matrix[position] += 1\n",
    "```\n",
    "Ova funkcija sada može raditi s ndarrayem bilo koje dimenzije, jedino treba paziti da je `position` validan indeks predane matrice. \n",
    "\n",
    "Možemo dohvatiti i više elemenata istodobno, tada umjesto tuplea indeksa, predajemo tuple *array-like* objekata. Bitno je da su ti objekti jednake duljine. NumPy tada sparuje odgovarajuće pozicije i po njima indeksira. "
   ]
  },
  {
   "cell_type": "code",
   "execution_count": 11,
   "metadata": {},
   "outputs": [
    {
     "data": {
      "text/plain": [
       "array([1, 5, 9])"
      ]
     },
     "execution_count": 11,
     "metadata": {},
     "output_type": "execute_result"
    }
   ],
   "source": [
    "# multiple element access\n",
    "a[[0,1,2],[0,1,2]]"
   ]
  },
  {
   "cell_type": "markdown",
   "metadata": {},
   "source": [
    "Često želimo pristupiti samo onim elementima koji zadovoljavaju neki logički uvjet, to jest elemente želimo *filtrirati*. NumPy to elegantno omogućuje. Pogledajmo primjere:"
   ]
  },
  {
   "cell_type": "code",
   "execution_count": 12,
   "metadata": {},
   "outputs": [
    {
     "data": {
      "text/plain": [
       "array([6, 7, 8, 9])"
      ]
     },
     "execution_count": 12,
     "metadata": {},
     "output_type": "execute_result"
    }
   ],
   "source": [
    "# get all elements larger than 5\n",
    "a[a > 5]\n"
   ]
  },
  {
   "cell_type": "code",
   "execution_count": 13,
   "metadata": {},
   "outputs": [
    {
     "data": {
      "text/plain": [
       "array([2, 4, 6, 8])"
      ]
     },
     "execution_count": 13,
     "metadata": {},
     "output_type": "execute_result"
    }
   ],
   "source": [
    "a[a % 2 == 0]"
   ]
  },
  {
   "cell_type": "markdown",
   "metadata": {},
   "source": [
    "Ovo je pomalo neočekivano. Od pametnog, ali svakodnevnog, pristupa pomoću indeksa, došli smo do toga da odjednom možemo pristupati po logičkim predikatima. NumPy *overloada* operatore, što to konkretno znači? To znači da primjerice dobro nam znam operator `+` za različite *tipove* obavlja različite funkcije. Logički su operatori primjerice *overloadani* na način da nad svakim elementom matrice izvrše logičku operaciju. Pogledajmo primjer:"
   ]
  },
  {
   "cell_type": "code",
   "execution_count": 14,
   "metadata": {},
   "outputs": [
    {
     "data": {
      "text/plain": [
       "array([[False, False, False],\n",
       "       [False, False,  True],\n",
       "       [ True,  True,  True]])"
      ]
     },
     "execution_count": 14,
     "metadata": {},
     "output_type": "execute_result"
    }
   ],
   "source": [
    "a > 5"
   ]
  },
  {
   "cell_type": "markdown",
   "metadata": {},
   "source": [
    "Vidimo da NumPy vraća `ndarray` istih dimnezija, ali drukčijeg tipa. Konkretno tipovi su `bool`. Vidimo da također možemo indeskirati i po drugom `ndarrayu`. Jednostavno ćemo dohvatiti elemente s onih pozicija na kojima se nalazi `True`. \n",
    "\n",
    "Klasične python liste možemo `slice`-ati, to jest pristupati podlistama originalne liste. Ista stvar je moguća i kod `ndarrayeva`. Jednostavno specificiramo početne i završne indekse osi i dohvatimo `subarray`."
   ]
  },
  {
   "cell_type": "code",
   "execution_count": 15,
   "metadata": {},
   "outputs": [
    {
     "data": {
      "text/plain": [
       "array([[1, 2],\n",
       "       [4, 5]])"
      ]
     },
     "execution_count": 15,
     "metadata": {},
     "output_type": "execute_result"
    }
   ],
   "source": [
    "a[0:2,0:2]"
   ]
  },
  {
   "cell_type": "markdown",
   "metadata": {},
   "source": [
    "Ako bi smo htjeli primjerice izvući srednji stupac, možemo specificirati da pristupamo svim redcima, a iz svakog samo srednjem elementu. U slučaju dobro nam poznate matrice `a` to je stupac s indeksom `1`."
   ]
  },
  {
   "cell_type": "code",
   "execution_count": 16,
   "metadata": {},
   "outputs": [
    {
     "data": {
      "text/plain": [
       "array([2, 5, 8])"
      ]
     },
     "execution_count": 16,
     "metadata": {},
     "output_type": "execute_result"
    }
   ],
   "source": [
    "#get middle column\n",
    "a[:, 1]"
   ]
  },
  {
   "cell_type": "markdown",
   "metadata": {},
   "source": [
    "Treba pripaziti na jednu stvar, radi uštede memorije NumPy, kada može, radi plitke kopije ([shallow copy](https://stackoverflow.com/questions/184710/what-is-the-difference-between-a-deep-copy-and-a-shallow-copy)) to jest vraća reference na već postojeće elemente. to zvuči izvrsno, naime stvarno želimo umanjiti zauzeće memorije što je više moguće. Međutim treba paziti, da onda dijelimo isti podataka između dvije varijable. Ilustrirajmo sada jedan suptilan *bug*."
   ]
  },
  {
   "cell_type": "code",
   "execution_count": 17,
   "metadata": {},
   "outputs": [
    {
     "data": {
      "text/plain": [
       "array([[1000,    2],\n",
       "       [   3,    4]])"
      ]
     },
     "execution_count": 17,
     "metadata": {},
     "output_type": "execute_result"
    }
   ],
   "source": [
    "original = np.array([\n",
    "  [1,2],\n",
    "  [3,4]\n",
    "])\n",
    "\n",
    "first_row = original[0]\n",
    "\n",
    "first_row[0] = 1000\n",
    "\n",
    "original"
   ]
  },
  {
   "cell_type": "markdown",
   "metadata": {},
   "source": [
    "Naime, izmjenom elementa u našem vektor-retku `first_row`, promijenili smo i vrijednost matrice `original`, na poziciji `(0,0)`. Više informacija o ovom možete pronaći na sljedećoj [poveznici](https://numpy.org/doc/stable/user/basics.copies.html). Za potrebe ovog kolegija, ako ćemo morati mutirati podmatrice, prvo ćemo *sliceati*, a potom kopirati.\n",
    "\n",
    "\n",
    "Sada ćemo se upoznati sa osnovama kombiniranja postojećih `ndarraya` u nove. \n"
   ]
  },
  {
   "cell_type": "code",
   "execution_count": 18,
   "metadata": {},
   "outputs": [],
   "source": [
    "a_1 = np.array([\n",
    "  [1,1],\n",
    "  [2,2]\n",
    "])\n",
    "\n",
    "a_2 = np.array([\n",
    "  [3,3],\n",
    "  [4,4]\n",
    "])\n",
    "\n"
   ]
  },
  {
   "cell_type": "markdown",
   "metadata": {},
   "source": [
    "Napravili smo dva `ndarraya` dimenzija `2x2`. Sada ćemo ih kombinirati."
   ]
  },
  {
   "cell_type": "code",
   "execution_count": 19,
   "metadata": {},
   "outputs": [
    {
     "data": {
      "text/plain": [
       "array([[1, 1, 3, 3],\n",
       "       [2, 2, 4, 4]])"
      ]
     },
     "execution_count": 19,
     "metadata": {},
     "output_type": "execute_result"
    }
   ],
   "source": [
    "np.hstack((a_1, a_2))"
   ]
  },
  {
   "cell_type": "code",
   "execution_count": 20,
   "metadata": {},
   "outputs": [
    {
     "data": {
      "text/plain": [
       "array([[1, 1],\n",
       "       [2, 2],\n",
       "       [3, 3],\n",
       "       [4, 4]])"
      ]
     },
     "execution_count": 20,
     "metadata": {},
     "output_type": "execute_result"
    }
   ],
   "source": [
    "np.vstack((a_1, a_2))\n"
   ]
  },
  {
   "cell_type": "markdown",
   "metadata": {},
   "source": [
    "NumPy pruža dvije funkcije; `np.hstack` i `np.vstack`. Te funkcije, kao prvi argument, primaju `tuple` (n-torku) `ndarrayeva` koje zatim spajaju. `np.hstack`, spaja arrayeve horizontalno, to jest po stupcima. Primjetimo da se sada krećemo po drugoj osi (*axis*), to jest osi s indeksom 1. `np.vstack` radi identičnu stvar, samo se sada krećemo po prvoj osi, to jest vertikalno kombiniramo arrayeve. Ovu funkcionalnost možemo postići na više načina."
   ]
  },
  {
   "cell_type": "code",
   "execution_count": 21,
   "metadata": {},
   "outputs": [
    {
     "data": {
      "text/plain": [
       "array([[1, 1],\n",
       "       [2, 2],\n",
       "       [3, 3],\n",
       "       [4, 4]])"
      ]
     },
     "execution_count": 21,
     "metadata": {},
     "output_type": "execute_result"
    }
   ],
   "source": [
    "np.concatenate([a_1, a_2], axis=0)"
   ]
  },
  {
   "cell_type": "code",
   "execution_count": 22,
   "metadata": {},
   "outputs": [
    {
     "data": {
      "text/plain": [
       "array([[1, 1],\n",
       "       [2, 2],\n",
       "       [3, 3],\n",
       "       [4, 4]])"
      ]
     },
     "execution_count": 22,
     "metadata": {},
     "output_type": "execute_result"
    }
   ],
   "source": [
    "np.r_[a_1, a_2]"
   ]
  },
  {
   "cell_type": "markdown",
   "metadata": {},
   "source": [
    "Pomoću `np.concatenate` možemo pretvoriti array-like objekt dimenzije `N` u array-like objekt dimenzije `N-1` spajanjem subarrayeva po specificiranoj osi. Ovo je korisno kod višedimenzionalnih arrayeva, gdje nemamo specifične funkcije za pojedine osi. Ako bi u pozivu funkcije `axis=0` zamijenili s `axis=1`, dobili bismo funkciju ekvivalentnu funkciji `np.hstack`.\n",
    "\n",
    "Pomoću objekta `np.r_` možemo sintaksom sličnoj indeksaciji spajati arrayeve. `np.r_` spojit će predane argumente kao retke, to jest na isti način kao i `np.vstack`. Ekivalentni objekt za spajanje po stupcima je `np.c_`. \n",
    "\n",
    "Preporuka je koristiti `np.hstack` i `np.vstack` metode gdje je to moguće, a `np.r_` i `np.c_` navedeni su u sluačju da se s njima susretnete u nekom drugom kodu.\n",
    "\n",
    "Pošto ćemo često baratati matricama korisno je upoznati se i s načinima kako te iste matrice i transponirati. To je naime relativno jednostavno, postoji funkcija `np.transpose` koja jednostavno retke zapiše kao stupce. "
   ]
  },
  {
   "cell_type": "code",
   "execution_count": 23,
   "metadata": {},
   "outputs": [
    {
     "data": {
      "text/plain": [
       "array([[1, 4, 7],\n",
       "       [2, 5, 8],\n",
       "       [3, 6, 9]])"
      ]
     },
     "execution_count": 23,
     "metadata": {},
     "output_type": "execute_result"
    }
   ],
   "source": [
    "np.transpose(a)"
   ]
  },
  {
   "cell_type": "markdown",
   "metadata": {},
   "source": [
    "Također, kako bi mogli emulirati matematički zapis formula, NumPy podržava i sljedeću operaciju."
   ]
  },
  {
   "cell_type": "code",
   "execution_count": 24,
   "metadata": {},
   "outputs": [
    {
     "data": {
      "text/plain": [
       "array([[1, 4, 7],\n",
       "       [2, 5, 8],\n",
       "       [3, 6, 9]])"
      ]
     },
     "execution_count": 24,
     "metadata": {},
     "output_type": "execute_result"
    }
   ],
   "source": [
    "a.T"
   ]
  },
  {
   "cell_type": "markdown",
   "metadata": {},
   "source": [
    "Za kraj upoznat ćemo se još s `ndarray.reshape`. To je jako korisna, i idiomatska metoda u NumPyu. Ta metoda kao argument prima shape, i vraća transformirani objekt. Transformirani objekt upravo ima predani shape. Naravno treba paziti da se početni i završni shape poklapaju.\n",
    "Konkretno array s shapeom `(2,3)` možemo preoblikovati u array shapea `(3,2)` (primjetite da je to jednako transpoziciji!), dok array sa shapeom `(5,2)` ne možemo transformirati u array shapea `(4,3)`. Pogledajmo:"
   ]
  },
  {
   "cell_type": "code",
   "execution_count": 25,
   "metadata": {},
   "outputs": [
    {
     "data": {
      "text/plain": [
       "array([[6, 3, 9, 2, 1, 7],\n",
       "       [8, 9, 5, 1, 1, 2],\n",
       "       [6, 6, 9, 3, 6, 4],\n",
       "       [2, 3, 8, 3, 8, 5]])"
      ]
     },
     "execution_count": 25,
     "metadata": {},
     "output_type": "execute_result"
    }
   ],
   "source": [
    "arr = np.random.randint(1,10, size=(4,6))\n",
    "arr"
   ]
  },
  {
   "cell_type": "code",
   "execution_count": 26,
   "metadata": {},
   "outputs": [
    {
     "data": {
      "text/plain": [
       "array([[6, 3, 9, 2, 1, 7, 8, 9],\n",
       "       [5, 1, 1, 2, 6, 6, 9, 3],\n",
       "       [6, 4, 2, 3, 8, 3, 8, 5]])"
      ]
     },
     "execution_count": 26,
     "metadata": {},
     "output_type": "execute_result"
    }
   ],
   "source": [
    "arr.reshape((-1,8))"
   ]
  },
  {
   "cell_type": "code",
   "execution_count": 27,
   "metadata": {},
   "outputs": [
    {
     "data": {
      "text/plain": [
       "array([[6, 3, 9, 2, 1, 7, 8, 9],\n",
       "       [5, 1, 1, 2, 6, 6, 9, 3],\n",
       "       [6, 4, 2, 3, 8, 3, 8, 5]])"
      ]
     },
     "execution_count": 27,
     "metadata": {},
     "output_type": "execute_result"
    }
   ],
   "source": [
    "arr.reshape((3,-1))"
   ]
  },
  {
   "cell_type": "code",
   "execution_count": 28,
   "metadata": {},
   "outputs": [
    {
     "ename": "ValueError",
     "evalue": "cannot reshape array of size 24 into shape (11,newaxis)",
     "output_type": "error",
     "traceback": [
      "\u001b[0;31m---------------------------------------------------------------------------\u001b[0m",
      "\u001b[0;31mValueError\u001b[0m                                Traceback (most recent call last)",
      "Cell \u001b[0;32mIn[28], line 1\u001b[0m\n\u001b[0;32m----> 1\u001b[0m \u001b[43marr\u001b[49m\u001b[38;5;241;43m.\u001b[39;49m\u001b[43mreshape\u001b[49m\u001b[43m(\u001b[49m\u001b[43m(\u001b[49m\u001b[38;5;241;43m11\u001b[39;49m\u001b[43m,\u001b[49m\u001b[38;5;241;43m-\u001b[39;49m\u001b[38;5;241;43m1\u001b[39;49m\u001b[43m)\u001b[49m\u001b[43m)\u001b[49m\n",
      "\u001b[0;31mValueError\u001b[0m: cannot reshape array of size 24 into shape (11,newaxis)"
     ]
    }
   ],
   "source": [
    "arr.reshape((11,-1))"
   ]
  },
  {
   "cell_type": "code",
   "execution_count": null,
   "metadata": {},
   "outputs": [],
   "source": [
    "arr.reshape((2,12))"
   ]
  },
  {
   "cell_type": "markdown",
   "metadata": {},
   "source": [
    "Treba obratiti pažnju da se elementi prvo uzimaju iz osi s najmanjim indeksom. Konkretno prvo ćemo uzeti sve elemente iz prvog retka, pa tek onda iz drugog."
   ]
  },
  {
   "cell_type": "markdown",
   "metadata": {},
   "source": [
    "## Agregacije\n",
    "\n",
    "Podsjetimo se opet naše matrice `a` prije ikakvih transpozicija."
   ]
  },
  {
   "cell_type": "code",
   "execution_count": null,
   "metadata": {},
   "outputs": [],
   "source": [
    "a"
   ]
  },
  {
   "cell_type": "markdown",
   "metadata": {},
   "source": [
    "Željeli bi smo moći raditi razne agregacije nad našim podatcima. Primjerice pronalazak maksimalnog elementa, srednje vrijednosti elemnata ili pak sume svih elemnata su često potrebne operacije. Također bi htjeli to moći raditi i na podmatricama, konkretno u redcima i stupcima. NumPy ima široki spektar funkcija kojima možemo napasti neke standardne probleme. "
   ]
  },
  {
   "cell_type": "code",
   "execution_count": null,
   "metadata": {},
   "outputs": [],
   "source": [
    "np.max(a)"
   ]
  },
  {
   "cell_type": "code",
   "execution_count": null,
   "metadata": {},
   "outputs": [],
   "source": [
    "np.mean(a)"
   ]
  },
  {
   "cell_type": "code",
   "execution_count": null,
   "metadata": {},
   "outputs": [],
   "source": [
    "np.mean(a, axis=1)  # prosjek redaka, primjetite da axis=1 govori da se krećemo po stupcima, \n",
    "                    # to jest agregiramo u smjeru stupaca. To defacto znači da je agregacija ograničena na retke."
   ]
  },
  {
   "cell_type": "code",
   "execution_count": null,
   "metadata": {},
   "outputs": [],
   "source": [
    "np.sum(a, axis=0)  # zbroj stupaca, axis=0 govori da zbrajamo retke, pa agregacija je lokalizirana po stupcu"
   ]
  },
  {
   "cell_type": "code",
   "execution_count": null,
   "metadata": {},
   "outputs": [],
   "source": [
    "np.max(a, axis=1)"
   ]
  },
  {
   "cell_type": "markdown",
   "metadata": {},
   "source": [
    "## Operacije\n",
    "\n",
    "Uz agregacije, želimo i raditi operacije nad `ndarrayevima`, poput zbrajanja, množenja, računanja skalarnih produkata. Uz te, dobro poznate, operacije iz linearne algebre želimo nekada i transformirati arraye po komponentama s nekom proizvoljnom funkciju. Primjerice, želimo za svaki element izračunati sinus, kosinus ili pak neku proizvoljnu funkciju. Prvo ćemo se upoznati s algebarskim operacijama."
   ]
  },
  {
   "cell_type": "code",
   "execution_count": null,
   "metadata": {},
   "outputs": [],
   "source": [
    "scale_x = np.diag([2,1,1])\n",
    "\n",
    "x = np.array([1,1,1])\n",
    "\n",
    "np.dot(scale_x, x)"
   ]
  },
  {
   "cell_type": "markdown",
   "metadata": {},
   "source": [
    "Što smo ovdje napravili? Sjetimo se linearne algebre, linearni operator možemo zapisati kao matricu. Konkretno smo napravili operator koji x os skalira s brojem 2, a druge dvije osi ostavlja ne promijenjenima. Zatim smo napravili vektor jedinica, i na njega smo djelovali operatorom skaliranja. Očekujemo dobiti vektor koji je dvostruko veći u smjeru x osi, što uistinu i jesmo dobili.\n",
    "\n",
    "Ovo je primjer umnoška matrice i vektora. NumPy ima funkciju `np.dot`. To je polimorfna funkcija, to jest kao operande može primati, vektor i vektor, matricu i vektor, kao i matricu i matricu. Uobičajeno je za matrične umnoške koristiti `np.matmul` ili operator `@`. Pogledajmo još primjera!"
   ]
  },
  {
   "cell_type": "code",
   "execution_count": null,
   "metadata": {},
   "outputs": [],
   "source": [
    "scale_y = np.diag([1,2,1])\n",
    "\n",
    "scale_x_y = scale_y @ scale_x \n",
    "\n",
    "np.dot(scale_x_y, x)"
   ]
  },
  {
   "cell_type": "code",
   "execution_count": null,
   "metadata": {},
   "outputs": [],
   "source": [
    "vec_1 = np.array([1,1])\n",
    "vec_2 = np.array([1,0])\n",
    "\n",
    "np.dot(vec_1, vec_2)"
   ]
  },
  {
   "cell_type": "code",
   "execution_count": null,
   "metadata": {},
   "outputs": [],
   "source": [
    "vec_1 = vec_1.reshape((1,2)) # vektor redak\n",
    "vec_2 = vec_2.reshape((2,1)) # vektor stupac\n",
    "\n",
    "vec_2 @ vec_1"
   ]
  },
  {
   "cell_type": "code",
   "execution_count": null,
   "metadata": {},
   "outputs": [],
   "source": [
    "vec_1 @ vec_2"
   ]
  },
  {
   "cell_type": "markdown",
   "metadata": {},
   "source": [
    "Većina matematičkih numpy funkcija je vektorizirana. Što to znači? Znači da se nad arrayevima primjenjuju *element-wise*. To jest element po element. Pogledajmo:"
   ]
  },
  {
   "cell_type": "code",
   "execution_count": null,
   "metadata": {},
   "outputs": [],
   "source": [
    "scale_y"
   ]
  },
  {
   "cell_type": "code",
   "execution_count": null,
   "metadata": {},
   "outputs": [],
   "source": [
    "np.cos(scale_y)"
   ]
  },
  {
   "cell_type": "code",
   "execution_count": null,
   "metadata": {},
   "outputs": [],
   "source": [
    "np.square(\n",
    "  np.array([1,2,3])\n",
    ")"
   ]
  },
  {
   "cell_type": "markdown",
   "metadata": {},
   "source": [
    "## Broadcasting\n",
    "\n",
    "`Broadcasting`, ili po hrvatski `odašiljanje`, je način na koji NumPy izvodi operacije koje matematički nisu moguće između takvih tipova. Umjesto stvaranja novih matematičkih ideja, želimo neke standardne probleme, efikasno sintaksno zapisati. Primjerice dodvanje jednog vektor redka svim vektor redcima, naivno bismo izveli petljom:"
   ]
  },
  {
   "cell_type": "code",
   "execution_count": null,
   "metadata": {},
   "outputs": [],
   "source": [
    "arr = np.array([\n",
    "  [1,2,3],\n",
    "  [3,2,1]\n",
    "])\n",
    "\n",
    "add = np.array([1,1,1])\n",
    "\n",
    "for i in range(arr.shape[0]):\n",
    "    arr[i] += add \n",
    "\n",
    "arr"
   ]
  },
  {
   "cell_type": "markdown",
   "metadata": {},
   "source": [
    "Ovaj pristup ima dva problema. Prvi je taj što petlju radimo u neefikasnom Pythonu, umjesto brzom C-u. Naime htjeli bi sve iteracije provoditi indirektno to jest bez eksplictnog iteriranje u Pythonu. Drugi je problem količina sintakse, koju možemo značajno smanjiti. Pogledajmo:"
   ]
  },
  {
   "cell_type": "code",
   "execution_count": null,
   "metadata": {},
   "outputs": [],
   "source": [
    "arr = np.array([\n",
    "  [1,2,3],\n",
    "  [3,2,1]\n",
    "])\n",
    "\n",
    "arr + add"
   ]
  },
  {
   "cell_type": "markdown",
   "metadata": {},
   "source": [
    "NumPy provjerom tipova prilikom izvođenja shvati da su tipovi za tu operaciju nekompatibilni, to jest jednodimenzionalni array i dvodimenzionalni array ne možemo zbrojiti. No onda će numpy jednostavno to zbrojiti po komponentama dvodimenzionalnog arraya. Na taj način se iteracija implicitno odvija. \n",
    "\n",
    "Broadcasting je kompleksna tema, koja izlazi van opsega ovog uvoda. Bitno je znati da postoji i da se ne iznenadite kako se vektori i matrice ovdje mogu zbrajati. Znatiželjni mogu više saznati na [poveznici](https://numpy.org/doc/stable/user/basics.broadcasting.html)"
   ]
  },
  {
   "cell_type": "code",
   "execution_count": null,
   "metadata": {},
   "outputs": [],
   "source": [
    "x = np.array([\n",
    "  [1,2],\n",
    "  [3,4]\n",
    "])"
   ]
  }
 ],
 "metadata": {
  "kernelspec": {
   "display_name": "Python 3 (ipykernel)",
   "language": "python",
   "name": "python3"
  },
  "language_info": {
   "codemirror_mode": {
    "name": "ipython",
    "version": 3
   },
   "file_extension": ".py",
   "mimetype": "text/x-python",
   "name": "python",
   "nbconvert_exporter": "python",
   "pygments_lexer": "ipython3",
   "version": "3.11.6"
  }
 },
 "nbformat": 4,
 "nbformat_minor": 4
}
