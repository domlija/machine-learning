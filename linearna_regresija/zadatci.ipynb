{
 "cells": [
  {
   "cell_type": "markdown",
   "metadata": {},
   "source": [
    "# Linearna regresija - vježba\n",
    "U ovoj Jupyter bilježnici bit će zadani zadatci na kojima će se testirati model linearne regresije"
   ]
  },
  {
   "cell_type": "markdown",
   "metadata": {},
   "source": [
    "## Dijabetes - zadatak 1\n",
    "\n",
    "U ovom zadatku primjeniti ćemo model linearne regresije na skup podataka o dijabetesu. Skup sadrži $442$ podatka. Svaki je podatak prikazan 10-dimenzionalnim vektorom značajki, a oznake su mjere stanja pacijenta nakon godinu dana od otkrivanja dijabetesa. Za početak ćemo učitati skup podataka, te se upoznati s značajkama s kojima radimo.\n"
   ]
  },
  {
   "cell_type": "code",
   "execution_count": 141,
   "metadata": {},
   "outputs": [],
   "source": [
    "import numpy as np\n",
    "from sklearn.linear_model import LinearRegression, Ridge, Lasso\n",
    "from sklearn.datasets import load_diabetes\n",
    "from sklearn.model_selection import train_test_split\n",
    "from sklearn.preprocessing import PolynomialFeatures\n",
    "from sklearn.metrics import mean_squared_error, r2_score\n",
    "import matplotlib.pyplot as plt\n"
   ]
  },
  {
   "cell_type": "code",
   "execution_count": 142,
   "metadata": {},
   "outputs": [
    {
     "name": "stdout",
     "output_type": "stream",
     "text": [
      "['age', 'sex', 'bmi', 'bp', 's1', 's2', 's3', 's4', 's5', 's6']\n",
      ".. _diabetes_dataset:\n",
      "\n",
      "Diabetes dataset\n",
      "----------------\n",
      "\n",
      "Ten baseline variables, age, sex, body mass index, average blood\n",
      "pressure, and six blood serum measurements were obtained for each of n =\n",
      "442 diabetes patients, as well as the response of interest, a\n",
      "quantitative measure of disease progression one year after baseline.\n",
      "\n",
      "**Data Set Characteristics:**\n",
      "\n",
      "  :Number of Instances: 442\n",
      "\n",
      "  :Number of Attributes: First 10 columns are numeric predictive values\n",
      "\n",
      "  :Target: Column 11 is a quantitative measure of disease progression one year after baseline\n",
      "\n",
      "  :Attribute Information:\n",
      "      - age     age in years\n",
      "      - sex\n",
      "      - bmi     body mass index\n",
      "      - bp      average blood pressure\n",
      "      - s1      tc, total serum cholesterol\n",
      "      - s2      ldl, low-density lipoproteins\n",
      "      - s3      hdl, high-density lipoproteins\n",
      "      - s4      tch, total cholesterol / HDL\n",
      "      - s5      ltg, possibly log of serum triglycerides level\n",
      "      - s6      glu, blood sugar level\n",
      "\n",
      "Note: Each of these 10 feature variables have been mean centered and scaled by the standard deviation times the square root of `n_samples` (i.e. the sum of squares of each column totals 1).\n",
      "\n",
      "Source URL:\n",
      "https://www4.stat.ncsu.edu/~boos/var.select/diabetes.html\n",
      "\n",
      "For more information see:\n",
      "Bradley Efron, Trevor Hastie, Iain Johnstone and Robert Tibshirani (2004) \"Least Angle Regression,\" Annals of Statistics (with discussion), 407-499.\n",
      "(https://web.stanford.edu/~hastie/Papers/LARS/LeastAngle_2002.pdf)\n",
      "\n"
     ]
    }
   ],
   "source": [
    "diabetes = load_diabetes()\n",
    "\n",
    "X = diabetes.data\n",
    "y = diabetes.target\n",
    "\n",
    "feature_names = diabetes.feature_names\n",
    "\n",
    "print(feature_names)\n",
    "print(diabetes.DESCR)"
   ]
  },
  {
   "cell_type": "markdown",
   "metadata": {},
   "source": [
    "Za početak počnimo sa *baseline* modelom obične linearne regresije. On će nam služiti kao polazišna točka u odnosu na koju ćemo gledati uspjeh naprednijih modela."
   ]
  },
  {
   "cell_type": "code",
   "execution_count": 143,
   "metadata": {},
   "outputs": [
    {
     "name": "stdout",
     "output_type": "stream",
     "text": [
      "train error: 3006.248837223861\n",
      "test error: 2319.9724640632544\n"
     ]
    }
   ],
   "source": [
    "x_train, x_test, y_train, y_test = train_test_split(X, y, train_size=0.8)\n",
    "\n",
    "model = LinearRegression()\n",
    "\n",
    "model.fit(x_train, y_train)\n",
    "y_train_predict = model.predict(x_train)\n",
    "y_test_predict = model.predict(x_test)\n",
    "\n",
    "err_train = np.mean((y_train_predict - y_train) ** 2)\n",
    "err_test = np.mean((y_test_predict - y_test) ** 2)\n",
    "\n",
    "print(f'train error: {err_train}')\n",
    "print(f'test error: {err_test}')\n",
    "\n"
   ]
  },
  {
   "cell_type": "markdown",
   "metadata": {},
   "source": [
    "Probajmo preslikati podatke polinomijalnim preslikavanjem"
   ]
  },
  {
   "cell_type": "code",
   "execution_count": 144,
   "metadata": {},
   "outputs": [
    {
     "name": "stdout",
     "output_type": "stream",
     "text": [
      "1\n",
      "2\n",
      "3\n"
     ]
    },
    {
     "data": {
      "image/png": "[encoded data removed]",
      "text/plain": [
       "<Figure size 640x480 with 1 Axes>"
      ]
     },
     "metadata": {},
     "output_type": "display_data"
    }
   ],
   "source": [
    "ds = [i for i in range(1, 4)]\n",
    "errs_train = []\n",
    "errs_test = []\n",
    "\n",
    "for d in ds:\n",
    "    print(d)\n",
    "    poly = PolynomialFeatures(d, include_bias=False)\n",
    "\n",
    "    x_train_trans = poly.fit_transform(x_train)\n",
    "    x_test_trans = poly.fit_transform(x_test)\n",
    "\n",
    "    model = LinearRegression()\n",
    "    model.fit(x_train_trans, y_train)\n",
    "\n",
    "    y_train_predict = model.predict(x_train_trans)\n",
    "    y_test_predict = model.predict(x_test_trans)\n",
    "    \n",
    "    errs_train.append(\n",
    "        np.mean((y_train_predict - y_train) ** 2)\n",
    "    )\n",
    "    errs_test.append(\n",
    "        np.mean((y_test_predict - y_test) ** 2)\n",
    "    )\n",
    "\n",
    "plt.plot(\n",
    "    ds,\n",
    "    errs_train,\n",
    "    label='train error'\n",
    ")\n",
    "\n",
    "plt.plot(\n",
    "    ds,\n",
    "    errs_test,\n",
    "    label='test error'\n",
    ")\n",
    "\n",
    "plt.axis([ds[0],ds[-1], 0, 10000])\n",
    "\n",
    "plt.legend()\n",
    "plt.show()"
   ]
  },
  {
   "cell_type": "markdown",
   "metadata": {},
   "source": [
    "Vidimo da povećanjem kapaciteta modela, testna greška strelovito raste dok se greška na skupu za učenje smanjuje. Model očigledno počinje učiti šum. Čak ni polinomijalno preslikavanje stupnja dva nije rezultiralo poboljšanjem modela. Na temelju toga možemo probati iskorsititi neki regularizirani model. Ideja je sljedeća, možda neke značajke ne pridonose regresiji, već su šum, koji se uči i koji samo \"zbunjuje naš model\"."
   ]
  },
  {
   "cell_type": "code",
   "execution_count": 148,
   "metadata": {},
   "outputs": [
    {
     "name": "stdout",
     "output_type": "stream",
     "text": [
      "train error: 3006.7222232062736\n",
      "test error: 2322.8983764701966\n",
      "[ -22.31255164 -220.92880708  481.2868247   312.78482726 -615.00010326\n",
      "  388.47341196  -11.79659622  109.78382119  719.13062435   92.44984958]\n"
     ]
    }
   ],
   "source": [
    "model = Lasso(alpha=0.002)\n",
    "\n",
    "model.fit(x_train, y_train)\n",
    "\n",
    "y_train_predict = model.predict(x_train)\n",
    "y_test_predict = model.predict(x_test)\n",
    "\n",
    "err_train = np.mean((y_train_predict - y_train) ** 2)\n",
    "err_test = np.mean((y_test_predict - y_test) ** 2)\n",
    "\n",
    "print(f'train error: {err_train}')\n",
    "print(f'test error: {err_test}')\n",
    "print(model.coef_)"
   ]
  },
  {
   "cell_type": "markdown",
   "metadata": {},
   "source": [
    "Vidimo da nažalost ni ova metoda nije puno, (a možda ni uopće unaprijedila naš model). Zato ćemo probati kombinirati ova dva pristupa. Napraviti ćemo polinomijalnu transformaciju stupnja 2, i primjeniti lasso regularizaciju."
   ]
  },
  {
   "cell_type": "code",
   "execution_count": 146,
   "metadata": {},
   "outputs": [
    {
     "name": "stdout",
     "output_type": "stream",
     "text": [
      "train error: 2780.0953552519754\n",
      "test error: 2244.0185256698596\n"
     ]
    }
   ],
   "source": [
    "model = Lasso(alpha=0.005)\n",
    "\n",
    "poly = PolynomialFeatures(2, include_bias=False)\n",
    "\n",
    "x_train_trans = poly.fit_transform(x_train)\n",
    "x_test_trans = poly.fit_transform(x_test)\n",
    "\n",
    "model.fit(x_train_trans, y_train)\n",
    "\n",
    "y_train_predict = model.predict(x_train_trans)\n",
    "y_test_predict = model.predict(x_test_trans)\n",
    "\n",
    "err_train = np.mean((y_train_predict - y_train) ** 2)\n",
    "err_test = np.mean((y_test_predict - y_test) ** 2)\n",
    "\n",
    "print(f'train error: {err_train}')\n",
    "print(f'test error: {err_test}')"
   ]
  },
  {
   "cell_type": "code",
   "execution_count": 147,
   "metadata": {},
   "outputs": [
    {
     "name": "stdout",
     "output_type": "stream",
     "text": [
      "train error: 2747.8694754937146\n",
      "test error: 2223.596123423943\n"
     ]
    }
   ],
   "source": [
    "model = Ridge(alpha=0.002)\n",
    "\n",
    "poly = PolynomialFeatures(2, include_bias=False)\n",
    "\n",
    "x_train_trans = poly.fit_transform(x_train)\n",
    "x_test_trans = poly.fit_transform(x_test)\n",
    "\n",
    "model.fit(x_train_trans, y_train)\n",
    "\n",
    "y_train_predict = model.predict(x_train_trans)\n",
    "y_test_predict = model.predict(x_test_trans)\n",
    "\n",
    "err_train = np.mean((y_train_predict - y_train) ** 2)\n",
    "err_test = np.mean((y_test_predict - y_test) ** 2)\n",
    "\n",
    "print(f'train error: {err_train}')\n",
    "print(f'test error: {err_test}')\n"
   ]
  },
  {
   "cell_type": "markdown",
   "metadata": {},
   "source": [
    "Vidimo da se regularizirani modeli u pravilu ponašaju malo bolje, to naravno ovisi o nasumičnoj raspodijeli na skup za učenje i skup za treniranje tako da je potrebno više puta pokrenuti model i uzeti prosječne vrijednosti prije donošenja čvrste odluke."
   ]
  }
 ],
 "metadata": {
  "kernelspec": {
   "display_name": "Python 3",
   "language": "python",
   "name": "python3"
  },
  "language_info": {
   "codemirror_mode": {
    "name": "ipython",
    "version": 3
   },
   "file_extension": ".py",
   "mimetype": "text/x-python",
   "name": "python",
   "nbconvert_exporter": "python",
   "pygments_lexer": "ipython3",
   "version": "3.11.4"
  },
  "orig_nbformat": 4
 },
 "nbformat": 4,
 "nbformat_minor": 2
}
