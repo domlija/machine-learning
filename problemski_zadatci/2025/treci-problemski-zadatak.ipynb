{
 "cells": [
  {
   "cell_type": "markdown",
   "metadata": {},
   "source": [
    "# 3. problemski zadatk\n",
    "\n",
    "U ovom zadatku potrebno je usporediti logističku regresiju i algoritam k najbližih susjeda na skupu podataka vezanih za pristunost ljudi u prostoriji. Podatci su prikupljeni pomoću IoT senozra. \n",
    "\n",
    "Prije rješavanja zadatke potrebno je instalirati biblioteke `ucimlrepo` i `pandas` pomoću naredbe `python -m pip install ucimlrepo pandas`. "
   ]
  },
  {
   "cell_type": "code",
   "execution_count": 48,
   "metadata": {},
   "outputs": [
    {
     "name": "stdout",
     "output_type": "stream",
     "text": [
      "            name     role        type demographic  \\\n",
      "0             id       ID     Integer        None   \n",
      "1           date  Feature        Date        None   \n",
      "2    Temperature  Feature     Integer        None   \n",
      "3       Humidity  Feature  Continuous        None   \n",
      "4          Light  Feature     Integer        None   \n",
      "5            CO2  Feature  Continuous        None   \n",
      "6  HumidityRatio  Feature  Continuous        None   \n",
      "7      Occupancy   Target      Binary        None   \n",
      "\n",
      "                                 description                 units  \\\n",
      "0                                       None                  None   \n",
      "1                                       None                  None   \n",
      "2                                       None                     C   \n",
      "3                                       None                     %   \n",
      "4                                       None                   Lux   \n",
      "5                                       None                   ppm   \n",
      "6                                       None  kgwater-vapor/kg-air   \n",
      "7  0 for not occupied, 1 for occupied status                  None   \n",
      "\n",
      "  missing_values  \n",
      "0             no  \n",
      "1             no  \n",
      "2             no  \n",
      "3             no  \n",
      "4             no  \n",
      "5             no  \n",
      "6             no  \n",
      "7             no  \n",
      "Before drop: ['date', 'Temperature', 'Humidity', 'Light', 'CO2', 'HumidityRatio']\n",
      "After drop: ['Temperature', 'CO2', 'HumidityRatio']\n",
      "(600, 3) (600,)\n"
     ]
    }
   ],
   "source": [
    "from ucimlrepo import fetch_ucirepo\n",
    "import pandas as pd\n",
    "\n",
    "occupancy_detection = fetch_ucirepo(id=357)\n",
    "\n",
    "print(occupancy_detection.variables) \n",
    "\n",
    "X_df = occupancy_detection.data.features\n",
    "y_df = occupancy_detection.data.targets\n",
    "\n",
    "# Before dropping\n",
    "print(\"Before drop:\", X_df.columns.tolist())\n",
    "\n",
    "# Drop columns at indices 0, 1, 3\n",
    "X_filtered = X_df.drop(X_df.columns[[0,2,3]], axis=1)\n",
    "\n",
    "# After dropping\n",
    "print(\"After drop:\", X_filtered.columns.tolist())\n",
    "\n",
    "full_data = pd.concat([X_filtered, y_df], axis=1)\n",
    "\n",
    "class_0 = full_data[full_data.iloc[:, -1] == 0]\n",
    "class_1 = full_data[full_data.iloc[:, -1] == 1]\n",
    "\n",
    "n = 300\n",
    "class_0_bal = class_0.sample(n=n, random_state=42)\n",
    "class_1_bal = class_1.sample(n=n, random_state=42)\n",
    "\n",
    "balanced_data = pd.concat([class_0_bal, class_1_bal]).sample(frac=1, random_state=42)\n",
    "\n",
    "X = balanced_data.iloc[:, :-1].to_numpy()\n",
    "y = balanced_data.iloc[:, -1].to_numpy()\n",
    "\n",
    "print(X.shape, y.shape)\n"
   ]
  },
  {
   "cell_type": "markdown",
   "metadata": {},
   "source": [
    "Usporedite algoritam k najbližih susjeda i algoritam logističke regresije. Koristite sve optimizacije koje smo spomenuli na predavanjima i potrudite se ostvariti najbolje performanse. "
   ]
  },
  {
   "cell_type": "code",
   "execution_count": 47,
   "metadata": {},
   "outputs": [],
   "source": [
    "#log reg"
   ]
  },
  {
   "cell_type": "code",
   "execution_count": 46,
   "metadata": {},
   "outputs": [],
   "source": [
    "#knn"
   ]
  }
 ],
 "metadata": {
  "kernelspec": {
   "display_name": "Python 3",
   "language": "python",
   "name": "python3"
  },
  "language_info": {
   "codemirror_mode": {
    "name": "ipython",
    "version": 3
   },
   "file_extension": ".py",
   "mimetype": "text/x-python",
   "name": "python",
   "nbconvert_exporter": "python",
   "pygments_lexer": "ipython3",
   "version": "3.9.6"
  }
 },
 "nbformat": 4,
 "nbformat_minor": 2
}
