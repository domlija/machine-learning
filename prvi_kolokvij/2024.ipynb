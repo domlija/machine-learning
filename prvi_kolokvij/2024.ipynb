{
 "cells": [
  {
   "cell_type": "markdown",
   "metadata": {},
   "source": [
    "bodovanje:\n",
    "\n",
    "1. /4\n",
    "2. /6\n",
    "3. /12\n",
    "4. /8\n",
    "5. /5 (bonus)"
   ]
  },
  {
   "cell_type": "code",
   "execution_count": 4,
   "metadata": {},
   "outputs": [],
   "source": [
    "import numpy as np\n",
    "import matplotlib.pyplot as plt\n",
    "from sklearn.linear_model import LinearRegression\n",
    "from sklearn.preprocessing import PolynomialFeatures"
   ]
  },
  {
   "cell_type": "markdown",
   "metadata": {},
   "source": [
    "### 1. zadatak\n",
    "Napišite funkciju koja za dani numpy array računa zbroj najmanjeg i najvećeg elementa"
   ]
  },
  {
   "cell_type": "code",
   "execution_count": null,
   "metadata": {},
   "outputs": [],
   "source": [
    "def min_max_sum(arr):\n",
    "    pass"
   ]
  },
  {
   "cell_type": "markdown",
   "metadata": {},
   "source": [
    "### 2. zadatak\n",
    "Napišite funkciju koja za ulazni 2d-array dimenzije $N \\times 2$ vraća array dimenzija $N \\times 4$. Prvi stupac treba biti popunjen jedinicama (dummy features), drugi i treći stupac odgovaraju stupcima ulaza, a treći stupac odgovara zbroju stupaca ulaza. \n",
    "\n",
    "$$\n",
    "\\begin{bmatrix}\n",
    "1 & 2 \\\\\n",
    "3 & 4 \\\\\n",
    "\\end{bmatrix}\n",
    "\\to\n",
    "\\begin{bmatrix}\n",
    "1 & 1 & 2 & 3 \\\\\n",
    "1 & 3 & 4 & 7\n",
    "\\end{bmatrix}\n",
    "$$\n",
    "\n",
    "Savjeti:\n",
    "\n",
    "Array jedinica možete kreirati pomoću funkcije `np.ones()`.\n",
    "\n",
    "Iskoristite jedan od načina dodavanja stupaca obrađenih na predavanjima."
   ]
  },
  {
   "cell_type": "code",
   "execution_count": null,
   "metadata": {},
   "outputs": [],
   "source": [
    "def add_features(arr):\n",
    "    pass"
   ]
  },
  {
   "cell_type": "markdown",
   "metadata": {},
   "source": [
    "### 3. zadatak \n",
    "\n",
    "\n",
    "Pomoću funkcije `generate_data` generirajte 30 podataka za učenje i 10 za testiranje. Odredite optimalnu složenost modela pomoću unakrsne provjere. Nacrtajte graf ovisnosti složenosti modela i pogrešaka na skupovima za učenje i testiranje. Obrazložite kako ste odabrali optimalnu složenost.\n",
    "\n",
    "Napomena:\n",
    "Eksperiment nije potrebno ponavljati više puta. Neka se vaše obrazloženje odnosi na priloženi graf pogrešaka.\n",
    "\n",
    "Na x osi grafa vam se trebaju nalaziti stupnjevi polinomnog preslikavanja, a na y osi greške.\n",
    "\n",
    "Pošto distribucija oznaka nije polinomna, ne možete zaključiti optimalnu složenost na temelju funkcije te takvo obrazloženje nije dobro.\n"
   ]
  },
  {
   "cell_type": "code",
   "execution_count": 79,
   "metadata": {},
   "outputs": [],
   "source": [
    "def generate_data(N):\n",
    "    X = np.random.uniform(-3,3, size=N)\n",
    "    y = np.sqrt(X + 10) + np.sin(2 * X) + np.random.normal(0,0.2, size=N)\n",
    "    return X, y"
   ]
  },
  {
   "cell_type": "code",
   "execution_count": null,
   "metadata": {},
   "outputs": [],
   "source": []
  },
  {
   "cell_type": "markdown",
   "metadata": {},
   "source": [
    "### 4. zadatak\n",
    "Pomoću funkcije `generate_data_2` generirajte 15 točaka. Zatim natrenirajte dva modela linearne regresije (bez polinomijalnih transformacija) te komentirajte rezultate. Nacrtajte obje hipoteze. Prvi model linearne regresije je običan, dok drugi model argument fit_intercept ima postavljen na False. \n",
    "\n",
    "Napomene:\n",
    "\n",
    "Intercept je parametar modela koji odgovara slobodnoj težini $w_0$ tj. bias-u.\n",
    "\n",
    "Za crtanje hipoteza iskoristite `np.linspace(-3, 3, 100)`"
   ]
  },
  {
   "cell_type": "code",
   "execution_count": 87,
   "metadata": {},
   "outputs": [],
   "source": [
    "def generate_data_2(N):\n",
    "    X = np.random.uniform(-3,3)\n",
    "    y = 2*X + 2\n",
    "\n",
    "    return X, y"
   ]
  },
  {
   "cell_type": "code",
   "execution_count": null,
   "metadata": {},
   "outputs": [],
   "source": [
    "model_1 = LinearRegression()\n",
    "model_2 = LinearRegression(fit_intercept=False) "
   ]
  },
  {
   "cell_type": "markdown",
   "metadata": {},
   "source": [
    "### Bonus\n",
    "\n",
    "Napišite funkciju koja numpy arrayu (proizvoljne dimenzije, to jest treba raditi i sa 1d i 2d arrayevima). Računa razilku zbroja parnih i neparnih elemenata\n",
    "\n",
    "$$\n",
    "\\begin{bmatrix}\n",
    "2 & 3 \\\\\n",
    "6 & 1\n",
    "\\end{bmatrix}\n",
    "\n",
    "\\to\n",
    "\n",
    "8 - 4 = 4\n",
    "$$\n",
    "\n",
    "Savjet:\n",
    "\n",
    "Sjetite se kako dohvatiti sve parne i sve neparne brojeve iz arraya"
   ]
  },
  {
   "cell_type": "code",
   "execution_count": null,
   "metadata": {},
   "outputs": [],
   "source": []
  }
 ],
 "metadata": {
  "kernelspec": {
   "display_name": "Python 3",
   "language": "python",
   "name": "python3"
  },
  "language_info": {
   "codemirror_mode": {
    "name": "ipython",
    "version": 3
   },
   "file_extension": ".py",
   "mimetype": "text/x-python",
   "name": "python",
   "nbconvert_exporter": "python",
   "pygments_lexer": "ipython3",
   "version": "3.11.6"
  }
 },
 "nbformat": 4,
 "nbformat_minor": 2
}
