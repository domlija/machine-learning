{
 "cells": [
  {
   "cell_type": "markdown",
   "metadata": {},
   "source": [
    "### Logistička regresija\n",
    "\n",
    "Vrijeme je da se upoznamo s jednim od najpoznatijih modela u strojnom učenju. Protivno nazivu logistička regresija je klasifikacijski algoritam te on uopće nema veze s regresijom. No krenimo redom. \n",
    "\n",
    "Problem klasifikacije je sljedeći. Za neki podatak $x$ trebamo predvidjeti kojoj klasi $y$ on pripada. Glavna razlike između regresije i klasifikacije je ta da ne postoji uređaj nad klasama. To jest za dvije oznake u regresijskom problemu, možemo reći koja je veća, a koja je manja. Dok kod klasifikacije su klase neki entiteti (primjerice pas ili mačka), te ne možemo reći je li neka klasa veća od neke druge. \n",
    "\n",
    "Za početak ćemo se baviti samo binarnom klasifikacijom, to jest imati ćemo samo dvije klase. Te klase ćemo u pravilu označavati s $0$ i $1$ ili s $-1$ i $1$. Često ćemo klasu s oznakom $1$ zvati *pozitivnom*, a klasu s oznakom $0$ ili $-1$ *negativnom*.\n",
    "\n",
    "Uz ovako definirane oznake postavlja se pitanje zašto jednostavno ne koristit model linearne regresije te naučiti model da pozitivnim primjerima da oznaku $1$, a negativnima $0$. Iako se na prvu ovo čini kao dobra ideja problem je sljedeći. Zamislite da radimo klasifikaciju između mačke i slona te da je slon pozitivna klasa. Težina za značajku težine bi bila pozitivna. Intuitivno što je ta životnija teža mi smo sigurniji da je riječ o slonu. No ako je riječ o stvarno velikom slonu, mi ćemo \"preskočiti\" jedinicu, te će nam izlaz regresije primjerice biti jednak dva. No zbog kvadratnog gubitka, to će biti jednako krivao kao da smo rekli da je riječ o mački. Time odmah možemo uvidjeti da je kvadratni gubitak kriva vrsta funkcije pogreške za problem klasifikacije."
   ]
  },
  {
   "cell_type": "code",
   "execution_count": 6,
   "metadata": {},
   "outputs": [],
   "source": [
    "import numpy as np\n",
    "from matplotlib import pyplot as plt \n",
    "from sklearn.linear_model import LinearRegression, LogisticRegression\n",
    "\n",
    "def plot_2d_clf_problem(X, y, h=None):\n",
    "    '''\n",
    "    Plots a two-dimensional labeled dataset (X,y) and, if function h(x) is given, \n",
    "    the decision surfaces.\n",
    "    '''\n",
    "    assert X.shape[1] == 2, \"Dataset is not two-dimensional\"\n",
    "    if h!=None : \n",
    "        # Create a mesh to plot in\n",
    "        r = 0.04  # mesh resolution\n",
    "        x_min, x_max = X[:, 0].min() - 1, X[:, 0].max() + 1\n",
    "        y_min, y_max = X[:, 1].min() - 1, X[:, 1].max() + 1\n",
    "        xx, yy = np.meshgrid(np.arange(x_min, x_max, r),\n",
    "                             np.arange(y_min, y_max, r))\n",
    "        XX=np.c_[xx.ravel(), yy.ravel()]\n",
    "        try:\n",
    "            Z_test = h(XX)\n",
    "            if Z_test.shape == ():\n",
    "                # h returns a scalar when applied to a matrix; map explicitly\n",
    "                Z = np.array(list(map(h,XX)))\n",
    "            else :\n",
    "                Z = Z_test\n",
    "        except ValueError:\n",
    "            # can't apply to a matrix; map explicitly\n",
    "            Z = np.array(list(map(h,XX)))\n",
    "        # Put the result into a color plot\n",
    "        Z = Z.reshape(xx.shape)\n",
    "        plt.contourf(xx, yy, Z, cmap=plt.cm.Pastel1)\n",
    "\n",
    "    # Plot the dataset\n",
    "    plt.scatter(X[:,0],X[:,1], c=y, cmap=plt.cm.tab20b, marker='o', s=50);\n",
    "\n"
   ]
  },
  {
   "cell_type": "code",
   "execution_count": 7,
   "metadata": {},
   "outputs": [
    {
     "data": {
      "image/png": "[encoded data removed]",
      "text/plain": [
       "<Figure size 640x480 with 1 Axes>"
      ]
     },
     "metadata": {},
     "output_type": "display_data"
    }
   ],
   "source": [
    "seven_X = np.array([[2,1], [2,3], [1,2], [3,2], [5,2], [5,4], [6,3]])\n",
    "seven_y = np.array([1, 1, 1, 1, 0, 0, 0])\n",
    "\n",
    "# Vaš kôd ovdje\n",
    "\n",
    "reg = LinearRegression().fit(seven_X, seven_y)\n",
    "h = lambda x: reg.predict(x) >= 0.5\n",
    "\n",
    "plot_2d_clf_problem(seven_X, seven_y, h)\n"
   ]
  },
  {
   "cell_type": "code",
   "execution_count": 8,
   "metadata": {},
   "outputs": [
    {
     "name": "stdout",
     "output_type": "stream",
     "text": [
      "[ 0.67600701  0.98423818  1.03152364  0.62872154  0.22591944  0.53415061\n",
      "  0.17863398 -0.2591944 ]\n"
     ]
    },
    {
     "data": {
      "image/png": "[encoded data removed]",
      "text/plain": [
       "<Figure size 640x480 with 1 Axes>"
      ]
     },
     "metadata": {},
     "output_type": "display_data"
    }
   ],
   "source": [
    "outlier_X = np.append(seven_X, [[12,8]], axis=0)\n",
    "outlier_y = np.append(seven_y, 0)\n",
    "\n",
    "clf = LinearRegression().fit(outlier_X, outlier_y)\n",
    "y_pred = clf.predict(outlier_X)\n",
    "h = lambda x: clf.predict(x) >= 0.5\n",
    "\n",
    "plot_2d_clf_problem(outlier_X, outlier_y, h)\n",
    "print(y_pred)"
   ]
  },
  {
   "cell_type": "code",
   "execution_count": 9,
   "metadata": {},
   "outputs": [],
   "source": [
    "def make_quad(n_per_quad=10, centers=None, center_labels=None, cov_matrix=None):\n",
    "    if centers is None:\n",
    "        centers = np.array([\n",
    "            [1,1],\n",
    "            [1,4],\n",
    "            [4,4],\n",
    "            [4,1]\n",
    "        ])\n",
    "\n",
    "    if center_labels is None:\n",
    "        center_labels = [0,1,0,1]\n",
    "\n",
    "\n",
    "    if cov_matrix is None:\n",
    "        cov_matrix = [[0.2, 0], [0, 0.2]]\n",
    "\n",
    "    X, y = [], []\n",
    "    for center, label in zip(centers, center_labels):\n",
    "        points = np.random.multivariate_normal(mean=center,cov=cov_matrix, size=n_per_quad)\n",
    "        X.append(points)\n",
    "        y.extend([label] * n_per_quad)\n",
    "\n",
    "    X = np.vstack(X)\n",
    "    y = np.array(y)\n",
    "\n",
    "    return X,y  "
   ]
  },
  {
   "cell_type": "code",
   "execution_count": 58,
   "metadata": {},
   "outputs": [
    {
     "name": "stdout",
     "output_type": "stream",
     "text": [
      "(20, 2)\n",
      "[[ 1.06772813e-02  8.28718258e-01]\n",
      " [ 3.19216868e-02  9.99490373e-01]\n",
      " [ 3.37898463e-02  9.98245140e-01]\n",
      " [ 1.00898918e-03  6.53900879e-01]\n",
      " [ 5.18722032e-05  8.42886394e-01]\n",
      " [ 6.80323885e-07  4.74983134e-04]\n",
      " [ 9.81943516e-05  2.07326467e-03]\n",
      " [ 5.47591384e-04  4.86206729e-03]\n",
      " [ 4.97584708e-04  6.30050101e-03]\n",
      " [ 1.33251678e-03  1.63493425e-02]\n",
      " [ 8.80700087e-04  6.05978860e-06]\n",
      " [ 1.82959544e-03 -4.66982513e-05]\n",
      " [ 1.65821593e-03 -1.74592146e-05]\n",
      " [ 2.55636684e-03 -2.11630970e-05]\n",
      " [ 7.24344214e-04 -9.16696600e-06]\n",
      " [ 1.28596405e-01 -4.02870018e-03]\n",
      " [ 8.53174571e-01  7.98770042e-03]\n",
      " [ 1.93632406e-01 -5.99566708e-03]\n",
      " [ 9.99490373e-01  3.19216868e-02]\n",
      " [ 9.02595857e-01  1.37814466e-02]]\n",
      "[[1.17683468 0.58394137]\n",
      " [3.51992221 0.70058325]]\n",
      "0.55\n",
      "0.75\n"
     ]
    },
    {
     "data": {
      "text/plain": [
       "<matplotlib.collections.PathCollection at 0x7f19e8dd7aa0>"
      ]
     },
     "execution_count": 58,
     "metadata": {},
     "output_type": "execute_result"
    },
    {
     "data": {
      "image/png": "[encoded data removed]",
      "text/plain": [
       "<Figure size 640x480 with 2 Axes>"
      ]
     },
     "metadata": {},
     "output_type": "display_data"
    }
   ],
   "source": [
    "from sklearn.kernel_approximation import Nystroem\n",
    "\n",
    "X, y = make_quad(5)\n",
    "\n",
    "rbf = Nystroem(n_components=3)\n",
    "\n",
    "phi = rbf.fit_transform(X)\n",
    "\n",
    "print(phi.shape)\n",
    "print(phi)\n",
    "picked = X[np.max(phi, axis=1) > 0.999]\n",
    "print(picked)\n",
    "model_1 = LogisticRegression()\n",
    "model_2 = LogisticRegression()\n",
    "\n",
    "model_1.fit(X,y)\n",
    "model_2.fit(phi, y)\n",
    "\n",
    "print(model_1.score(X,y))\n",
    "print(model_2.score(phi,y))\n",
    "\n",
    "plt.subplot(1,2,1)\n",
    "plot_2d_clf_problem(X, y, lambda x: model_1.predict(x) > 0.5)\n",
    "plt.subplot(1,2,2)\n",
    "plot_2d_clf_problem(X, y, lambda x: model_2.predict(rbf.transform(x)) > 0.5)\n",
    "plt.scatter(picked[:,0], picked[:,1], c='red')\n",
    "\n",
    "\n"
   ]
  }
 ],
 "metadata": {
  "kernelspec": {
   "display_name": "Python 3",
   "language": "python",
   "name": "python3"
  },
  "language_info": {
   "codemirror_mode": {
    "name": "ipython",
    "version": 3
   },
   "file_extension": ".py",
   "mimetype": "text/x-python",
   "name": "python",
   "nbconvert_exporter": "python",
   "pygments_lexer": "ipython3",
   "version": "3.12.3"
  }
 },
 "nbformat": 4,
 "nbformat_minor": 2
}
