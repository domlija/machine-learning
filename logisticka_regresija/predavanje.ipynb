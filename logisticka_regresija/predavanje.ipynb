{
 "cells": [
  {
   "cell_type": "markdown",
   "metadata": {},
   "source": [
    "### Logistička regresija\n",
    "\n",
    "Vrijeme je da se upoznamo s jednim od najpoznatijih modela u strojnom učenju. Protivno nazivu logistička regresija je klasifikacijski algoritam te on uopće nema veze s regresijom. No krenimo redom. \n",
    "\n",
    "Problem klasifikacije je sljedeći. Za neki podatak $x$ trebamo predvidjeti kojoj klasi $y$ on pripada. Glavna razlike između regresije i klasifikacije je ta da ne postoji uređaj nad klasama. To jest za dvije oznake u regresijskom problemu, možemo reći koja je veća, a koja je manja. Dok kod klasifikacije su klase neki entiteti (primjerice pas ili mačka), te ne možemo reći je li neka klasa veća od neke druge. \n",
    "\n",
    "Za početak ćemo se baviti samo binarnom klasifikacijom, to jest imati ćemo samo dvije klase. Te klase ćemo u pravilu označavati s $0$ i $1$ ili s $-1$ i $1$. Često ćemo klasu s oznakom $1$ zvati *pozitivnom*, a klasu s oznakom $0$ ili $-1$ *negativnom*.\n",
    "\n",
    "Uz ovako definirane oznake postavlja se pitanje zašto jednostavno ne koristit model linearne regresije te naučiti model da pozitivnim primjerima da oznaku $1$, a negativnima $0$. Iako se na prvu ovo čini kao dobra ideja problem je sljedeći. Zamislite da radimo klasifikaciju između mačke i slona te da je slon pozitivna klasa. Težina za značajku težine bi bila pozitivna. Intuitivno što je ta životnija teža mi smo sigurniji da je riječ o slonu. No ako je riječ o stvarno velikom slonu, mi ćemo \"preskočiti\" jedinicu, te će nam izlaz regresije primjerice biti jednak dva. No zbog kvadratnog gubitka, to će biti jednako krivao kao da smo rekli da je riječ o mački. Time odmah možemo uvidjeti da je kvadratni gubitak kriva vrsta funkcije pogreške za problem klasifikacije."
   ]
  },
  {
   "cell_type": "code",
   "execution_count": 1,
   "metadata": {},
   "outputs": [],
   "source": [
    "import numpy as np\n",
    "from matplotlib import pyplot as plt \n",
    "from sklearn.linear_model import LinearRegression\n",
    "\n",
    "def plot_2d_clf_problem(X, y, h=None):\n",
    "    '''\n",
    "    Plots a two-dimensional labeled dataset (X,y) and, if function h(x) is given, \n",
    "    the decision surfaces.\n",
    "    '''\n",
    "    assert X.shape[1] == 2, \"Dataset is not two-dimensional\"\n",
    "    if h!=None : \n",
    "        # Create a mesh to plot in\n",
    "        r = 0.04  # mesh resolution\n",
    "        x_min, x_max = X[:, 0].min() - 1, X[:, 0].max() + 1\n",
    "        y_min, y_max = X[:, 1].min() - 1, X[:, 1].max() + 1\n",
    "        xx, yy = np.meshgrid(np.arange(x_min, x_max, r),\n",
    "                             np.arange(y_min, y_max, r))\n",
    "        XX=np.c_[xx.ravel(), yy.ravel()]\n",
    "        try:\n",
    "            Z_test = h(XX)\n",
    "            if Z_test.shape == ():\n",
    "                # h returns a scalar when applied to a matrix; map explicitly\n",
    "                Z = np.array(list(map(h,XX)))\n",
    "            else :\n",
    "                Z = Z_test\n",
    "        except ValueError:\n",
    "            # can't apply to a matrix; map explicitly\n",
    "            Z = np.array(list(map(h,XX)))\n",
    "        # Put the result into a color plot\n",
    "        Z = Z.reshape(xx.shape)\n",
    "        plt.contourf(xx, yy, Z, cmap=plt.cm.Pastel1)\n",
    "\n",
    "    # Plot the dataset\n",
    "    plt.scatter(X[:,0],X[:,1], c=y, cmap=plt.cm.tab20b, marker='o', s=50);\n",
    "\n"
   ]
  },
  {
   "cell_type": "code",
   "execution_count": 3,
   "metadata": {},
   "outputs": [
    {
     "data": {
      "image/png": "[encoded data removed]",
      "text/plain": [
       "<Figure size 640x480 with 1 Axes>"
      ]
     },
     "metadata": {},
     "output_type": "display_data"
    }
   ],
   "source": [
    "seven_X = np.array([[2,1], [2,3], [1,2], [3,2], [5,2], [5,4], [6,3]])\n",
    "seven_y = np.array([1, 1, 1, 1, 0, 0, 0])\n",
    "\n",
    "# Vaš kôd ovdje\n",
    "\n",
    "reg = LinearRegression().fit(seven_X, seven_y)\n",
    "h = lambda x: reg.predict(x) >= 0.5\n",
    "\n",
    "plot_2d_clf_problem(seven_X, seven_y, h)\n"
   ]
  },
  {
   "cell_type": "code",
   "execution_count": null,
   "metadata": {},
   "outputs": [],
   "source": [
    "outlier_X = np.append(seven_X, [[12,8]], axis=0)\n",
    "outlier_y = np.append(seven_y, 0)\n",
    "\n",
    "reg = LinearRegression().fit(seven_X, seven_y)\n",
    "h = lambda x: reg.predict(x) >= 0.5\n",
    "\n",
    "plot_2d_clf_problem(seven_X, seven_y, h)"
   ]
  }
 ],
 "metadata": {
  "kernelspec": {
   "display_name": "Python 3",
   "language": "python",
   "name": "python3"
  },
  "language_info": {
   "codemirror_mode": {
    "name": "ipython",
    "version": 3
   },
   "file_extension": ".py",
   "mimetype": "text/x-python",
   "name": "python",
   "nbconvert_exporter": "python",
   "pygments_lexer": "ipython3",
   "version": "3.11.6"
  }
 },
 "nbformat": 4,
 "nbformat_minor": 2
}
